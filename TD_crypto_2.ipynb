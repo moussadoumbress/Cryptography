{
  "cells": [
    {
      "cell_type": "markdown",
      "metadata": {
        "id": "3FwNYQ4nimbB"
      },
      "source": [
        "# TP 2 : Cryptographie\n",
        "\n",
        "Dans ce TP on étudiera l'algorithme RSA ainsi que des divers algorithmes de primalité.\n",
        "\n",
        "Voici une référene qui pourra être utile pour des astuces avec Python : https://www.kaggle.com/learn/python\n"
      ]
    },
    {
      "cell_type": "markdown",
      "metadata": {
        "id": "CljKCmupkGoH"
      },
      "source": [
        "# 1) RSA\n",
        "\n",
        "Rappelons que système RSA (d'après Rivest, Shamir et Adleman, ses créateurs) est bassé sur le principe de fonction à sens unique. Dans ce cas-ci, la fonction est :\n",
        "\n",
        "\\begin{equation} f : \\mathbb{N} \\times \\mathbb{N} \\to \\mathbb{N} \\;\\;\\; : \\;\\;\\; (a,b) \\mapsto ab, \\end{equation}\n",
        "\n",
        "dont l'inverse implique factoriser un nombre $n$ comme produit des deux nombres $a,b > 1$, ce qui est un problème difficile, comme on le verra dans le deuxième exercice.\n",
        "\n",
        "L'objectif de cet exercice est d'implementer le système RSA. Rappelons les notations :\n",
        "\n",
        "*   $p$ et $q$ sont deux nombres premiers.\n",
        "*   $n =pq$ de sorte que $\\phi(n) = (p-1) (n-1)$.\n",
        "*   $1 \\leq e < \\phi(n)$ est un nombre choisit au hasard et premier à $\\phi(n)$. \n",
        "*   $1 \\leq d < \\phi(n)$ est l'inverse de $e$ modulo $\\phi(n)$.\n",
        "\n",
        "Alors la clé publique est donnée par $(n, e)$ et la clé sécrète par $(p,q,d)$.\n",
        "\n",
        "a) Rappeler l'algorithme du système RSA.\n",
        "\n",
        "b) Écrire une fonction qui retourne une clé publique à partir de $(p, q)$"
      ]
    },
    {
      "cell_type": "code",
      "execution_count": 14,
      "metadata": {
        "id": "WBBh479xilGV"
      },
      "outputs": [
        {
          "name": "stdout",
          "output_type": "stream",
          "text": [
            "(77, 43, 7)\n"
          ]
        }
      ],
      "source": [
        "# La fonction public_key prend comme argument deux nombres premiers p et q et retourne une clé publique public_key = (n, e)\n",
        "# et une clé secrète secret_key = (p, q, d)\n",
        "import random\n",
        "import math\n",
        "def rsa_keys(p, q) :\n",
        "    n=p*q\n",
        "    phi=(p-1)*(q-1)\n",
        "    while(True):\n",
        "        e=random.randint(1,phi)\n",
        "        if math.gcd(e,phi) == 1 :\n",
        "            d=pow(e, -1, phi)\n",
        "            break\n",
        "    return (n,e,d)\n",
        "print(rsa_keys(7,11))\n",
        "    "
      ]
    },
    {
      "cell_type": "markdown",
      "metadata": {
        "id": "7dmt8AmvWEma"
      },
      "source": [
        "c) Écrire une fonction qui codifie un message $m$ (un entier) étant donné une clé publique $(n, e)$."
      ]
    },
    {
      "cell_type": "code",
      "execution_count": 9,
      "metadata": {
        "id": "dxWf5n8mWWt8"
      },
      "outputs": [
        {
          "name": "stdout",
          "output_type": "stream",
          "text": [
            "4\n"
          ]
        }
      ],
      "source": [
        "# La fonction crypt_rsa prend comme argument un entier m, la clé publique (n, e)\n",
        "# et retourne le message codée\n",
        "def crypt_rsa(m, n, e) :\n",
        "    return (m**e) % n\n",
        "\n",
        "print(crypt_rsa(5,7,2))"
      ]
    },
    {
      "cell_type": "markdown",
      "metadata": {
        "id": "tW6sxeRFWaGs"
      },
      "source": [
        "d) Écrire une fonction qui décode un message $m$ (un entier) crypté en utilisant la clé publique $(n, e)$ étant donné la clé secrète $(\\varphi(n), d)$."
      ]
    },
    {
      "cell_type": "code",
      "execution_count": 116,
      "metadata": {
        "id": "SzxNGX_ZHokt"
      },
      "outputs": [
        {
          "name": "stdout",
          "output_type": "stream",
          "text": [
            "3\n"
          ]
        }
      ],
      "source": [
        "# La fonction decrypt_rsa prend comme argument m et retourne le message décrypté\n",
        "def decrypt_rsa(m, n, d) :\n",
        "    return (m**d) % n\n",
        "print(decrypt_rsa(9,6,7))"
      ]
    },
    {
      "cell_type": "markdown",
      "metadata": {
        "id": "9BvWKyFoWqrT"
      },
      "source": [
        "e) Écrire une fonction pour coder un message $s$ (un texte) en utilisant une clé publique publique $(n, e)$."
      ]
    },
    {
      "cell_type": "code",
      "execution_count": 29,
      "metadata": {},
      "outputs": [
        {
          "name": "stdout",
          "output_type": "stream",
          "text": [
            "['\\x00', '\\x00', '\\x00', '\\x00', '\\x00', '\\x00']\n"
          ]
        }
      ],
      "source": [
        "# rsa_code prend comme argument un string s et retourne un message codé avec la clé publique (n, e)\n",
        "def rsa_code(s, n, e) :\n",
        "    code=[]\n",
        "    message = []\n",
        "    for i in range(len(s)):\n",
        "        message.append(ord(s[i])-97)\n",
        "        code.append(chr(crypt_rsa(message[i], n, e)))\n",
        "    return code\n",
        "\n",
        "print(rsa_code('aaaaaa',2,2))"
      ]
    },
    {
      "cell_type": "markdown",
      "metadata": {
        "id": "4xryK4R5XrD0"
      },
      "source": [
        "f) Écrire une fonction pour decoder un message $s$ (un texte) crypté en utilisant une clé publique $(n, e)$ et clé secrète $(\\varphi(n), d)$."
      ]
    },
    {
      "cell_type": "code",
      "execution_count": 117,
      "metadata": {
        "id": "bYCp_AGSX7ID"
      },
      "outputs": [
        {
          "name": "stdout",
          "output_type": "stream",
          "text": [
            "['\\x00', '\\x00', '\\x00', '\\x00', '\\x00', '\\x00']\n"
          ]
        }
      ],
      "source": [
        "# rsa_decode prend comme argument un message codé s (un string) avec la clé publique (n, e) et retourne le\n",
        "# message décodé avec la clé secrète (phi, d) \n",
        "def rsa_decode(s, n, d) :\n",
        "    decode=[]\n",
        "    message_co = []\n",
        "    for i in range(len(s)):\n",
        "        message_co.append(ord(s[i])-97)\n",
        "        decode.append(chr(decrypt_rsa(message_co[i], n, d)))\n",
        "    return decode\n",
        "#decode = ''\n",
        "#for i in range(len(s)):\n",
        "    #decode += chr()\n",
        "\n",
        "print(rsa_decode('aaaaaa',2,2))"
      ]
    },
    {
      "cell_type": "markdown",
      "metadata": {
        "id": "3_jsSeCYYdiF"
      },
      "source": [
        "g) Donner un exemple en utilisant p = 17, q = 23."
      ]
    },
    {
      "cell_type": "markdown",
      "metadata": {
        "id": "uvCGew9OkJ-l"
      },
      "source": [
        "# 2) Tests de primalité\n",
        "\n",
        "Les nombres premiers sont à la base du système RSA. On a besoin de pouvoir construire des nombres premiers grands et on s'intéresse donc à la question de quand est-ce un nombre $n$ premier ou composé."
      ]
    },
    {
      "cell_type": "markdown",
      "metadata": {
        "id": "vfDx5cGSkOJb"
      },
      "source": [
        "## 2.1) Solovay-Strassen\n",
        "\n",
        "Implementer l'algorithme de Solovay-Strassen et l'utiliser pour donne la liste des 100 premiers nombres premiers."
      ]
    },
    {
      "cell_type": "code",
      "execution_count": 56,
      "metadata": {
        "id": "dvsUxCBXkaFt"
      },
      "outputs": [
        {
          "data": {
            "text/plain": [
              "-1"
            ]
          },
          "execution_count": 56,
          "metadata": {},
          "output_type": "execute_result"
        }
      ],
      "source": [
        "def Jacobi(M,N):\n",
        "    \"\"\"\n",
        "    Calcule le symbole s = (M/N) par la mÃ©thode vue en TD.\n",
        "    \"\"\"\n",
        "    assert(N%2 == 1)\n",
        "    m, n, s = M, N, 1\n",
        "    if (m < 0):\n",
        "        m = -m\n",
        "        s = 1 if (((n-1)//2)%2==0) else -1\n",
        "    while(m >= 2):\n",
        "        if (m % 2 == 0):\n",
        "            m //= 2\n",
        "            exposant = (n**2 -1) // 8\n",
        "            s *= 1 if exposant%2 == 0 else -1\n",
        "        else:\n",
        "            exposant = (n-1)*(m-1)//4\n",
        "            s *= 1 if exposant%2 == 0 else -1\n",
        "            n, m = m, n%m\n",
        "    if m == 0:\n",
        "        return 0\n",
        "    return s\n",
        "Jacobi(6,7)"
      ]
    },
    {
      "cell_type": "code",
      "execution_count": 111,
      "metadata": {},
      "outputs": [
        {
          "name": "stdout",
          "output_type": "stream",
          "text": [
            "8388607 est composé\n"
          ]
        }
      ],
      "source": [
        "# La fonction solovay_strassen prend comme argument deux entiers n et k. Elle doit choisir k nombres differents aléatoirement et tester la condition\n",
        "# de Sollovay-Strassen. Si n n'est pas premier, le programme doit écrire \"n est compossé\", si n passe k tests, le programme doit répondre\n",
        "# \"n est un nombre premier avec probabilité p\", où p est la probabilité de que n soit premier.\n",
        "\n",
        "\n",
        "def solovay_strassen(n, k) :\n",
        "    \n",
        "    assert (n%2)==1\n",
        "    while(k!=0):\n",
        "        k=k-1\n",
        "        a=random.randint(2,n-1)\n",
        "        x=Jacobi(a,n)\n",
        "        if (x==0) or ((x%n)!=pow(a,(n-1)//2,n)):\n",
        "            print(n ,\"est composé\")\n",
        "            break \n",
        "        if k==0:\n",
        "            print(n, \"est probablement premier avec probabilité\")\n",
        "solovay_strassen(2**(23)-1,100)\n",
        "        \n"
      ]
    },
    {
      "cell_type": "markdown",
      "metadata": {
        "id": "ugXv9FFGlOCn"
      },
      "source": [
        "# 2.2) Rabin-Miller\n",
        "\n",
        "Rappelons l'idée derrière l'algorithme de Rabin-Miller. Soit $n \\in \\mathbf{N}$ un entier impaire. On peut alors écrire $n$ sous la forme $1 + 2^k q$, où $k \\geq 1$ et $q$ est un entier impaire. Si $n$ est un nombre premier, alors, pour tout entier $a$ tel que $(a, p) \\equiv 1 \\text{(mod $p$)}$, le petit théorème de Fermat dit que\n",
        "\n",
        "\\begin{equation} a^{2^k q} \\equiv 1 \\text{(mod $n$)}. \\end{equation}\n",
        "\n",
        "Soit $0 \\leq i \\leq k$ le plus petit entier tel que $a^{2^i q} \\equiv 1 \\text{(mod $n$)}$. On a alors deux possibilités :\n",
        "\n",
        "*   Si $i =0$ alors $a^q \\equiv 1 \\text{(mod $n$)}$.\n",
        "*   Si $i \\geq 1$ alors $a^{2^{i-1} q} \\equiv -1 \\text{(mod $n$)}$.\n",
        "\n",
        "Observez que la deuxième condition est vraie car il n'y a que deux racines carrées de 1 quand $n$ est premier (pourquoi ?).\n",
        "\n",
        "**Definition** On dit que $n = 1 + 2^k q$ est *fortement pseudo-premier* de base $a$ pour $1 \\leq a < n$ si l'une des connditions suivantes est satisfaite:\n",
        "\n",
        "\n",
        "*   $a^q \\equiv 1 \\text{(mod $n$)}$\n",
        "*   Il existe $0 \\leq i \\leq k-1$ tel que $a^{2^{i} q} \\equiv -1 \\text{(mod $n$)}$.\n",
        "\n",
        "**Théorème** (Rabin-Miller) Soit\n",
        "\n",
        "$B_n := \\{ a \\in (\\mathbb{Z} / n \\mathbb{Z})^\\times : n \\text{ est fortement pseudo-premier de base } a\\}.$\n",
        "\n",
        "Alors si $n$ n'est pas premier on a $\\frac{|B_n|}{\\phi(n)} \\leq \\frac{1}{4}$.\n",
        "\n",
        "Ceci permet de procéder de la même manière qu'on a fait avec l'algorithme de Solovay-Strassen : on choisit $k$ entiers au hasard et on vérifie si $n$ est fortement pseudo-premier de base $k$. Si $n$ ne l'est pas, alors $n$ n'est pas un nombre premier. Si $n$ passe les $k$ tests, alors $n$ est premier avec une probabilité $1 - 1 / 4^k$.\n",
        "\n",
        "a) Implementer l'algorithme de Rabin-Miller."
      ]
    },
    {
      "cell_type": "code",
      "execution_count": 119,
      "metadata": {
        "id": "gVvSC-eroV8-"
      },
      "outputs": [
        {
          "name": "stdout",
          "output_type": "stream",
          "text": [
            "True\n"
          ]
        }
      ],
      "source": [
        "# La fonction rabin_miller prend comme argument deux entiers n et k. Elle doit choisir k nombres differents aléatoirement et tester la condition\n",
        "# de Miller_Rabin. Si n n'est pas premier, le programme doit écrire \"n est compossé\", si n passe k tests, le programme doit répondre\n",
        "# \"n est un nombre premier avec probabilité p\", où p est la probabilité de que n soit premier.\n",
        "\n",
        "def rabin_miller(n, k) :\n",
        "    if n == 2 or n ==3 :\n",
        "       return True\n",
        "    if n % 2 == 0:\n",
        "       return False\n",
        "    r, s = 0, n - 1\n",
        "    while s % 2 == 0:\n",
        "       r += 1\n",
        "       s //= 2                     # la partie non paire de n-1 / permet la factorisation en nombre premier\n",
        "    for _ in range(k):\n",
        "      a = random.randint(2, n - 1)     \n",
        "      x = pow(a, s, n)            \n",
        "      if x == 1 or x == n - 1:\n",
        "         continue                \n",
        "      for _ in range(r - 1):      \n",
        "         x = pow(x, 2, n)        \n",
        "         if x == n - 1:\n",
        "            break               \n",
        "         else:\n",
        "           return False            \n",
        "    return True  \n",
        "print(rabin_miller(7,11))"
      ]
    },
    {
      "cell_type": "markdown",
      "metadata": {
        "id": "3IWIppee5iv9"
      },
      "source": [
        "Si l'hypothèse de Riemann généralisée est vraie, alors il est possible de démontrer que, si $n$ est composé, alors il existe $a \\leq 2 (\\log n)^2$ qui ne satisfait pas le test de Rabin-Miller.\n",
        "\n",
        "b) Implementer un algorithme détérministe sous l'hypothèse de Riemann généralisée."
      ]
    },
    {
      "cell_type": "code",
      "execution_count": null,
      "metadata": {
        "id": "OuXPQgQL542B"
      },
      "outputs": [],
      "source": [
        "# La fonction rabin_miller_grh prend comme argument deux entiers n et k. Elle doit retourner \"n est compossé\" ou\n",
        "# \"Si l'hypothèse de Riemann généralisée est vrai, alors est un nombre premier !\".\n",
        "\n",
        "def rabin_miller_grh(n, k) :"
      ]
    },
    {
      "cell_type": "markdown",
      "metadata": {
        "id": "aqGm0AMs6jI5"
      },
      "source": [
        "c) Que dit l'hypothèse de Riemann généralisée ?\n",
        "\n",
        "d) Est-ce 6277101735386680763835789423207666416083908700390324961279 un nombre premier ?\n",
        "\n",
        "e) Un nombre premier de Fermat est un nombre premier de la forme $2^k + 1$. Trouver les premiers nombres premiers de Fermat.\n",
        "\n",
        "f) Un nombre premier de Mersenne est un nombre premier de la forme $M_n = 2^n - 1$. Montrer que si $M_n$ est un nombre premier alors $n$ l'est aussi. Trouver les premiers nombres premiers de Mersenne."
      ]
    },
    {
      "cell_type": "markdown",
      "metadata": {
        "id": "75DwQJ1uKYS9"
      },
      "source": [
        "## 2.3) L'algorithme p-1 de Pollard\n",
        "\n",
        "Rappelons l'idée de l'algorithme. Soit $n \\in \\mathbb{N}$ et supposons que $p$ est un nombre premier divisanr $n$. Écrivons\n",
        "\\begin{equation} p-1 = q_1^{a_1} . \\ldots . q_k^{a_k}\\end{equation}\n",
        "avec $q_i$ des nombres premiers et $a_1 > 0$. Soit $b \\in \\mathbb{N}$ tel que $q_i^{a_i} \\leq b$ pour tout $1 \\leq i \\leq k$. On dit alors que $n$ est $b$-superfriable. Soit\n",
        "\\begin{equation} M(b) := ppcm(2, \\ldots, b) = \\prod_{q < b} q^{\\lfloor \\log_q b \\rfloor}. \\end{equation}\n",
        "Par hypothèse, on a $p - 1 | M(b)$ et donc $2^{M(b)} \\equiv 1 \\text{ (mod $p$)}$ (pourquoi ?) ce qui implique $p | 2^M(b) - 1$. On conclut que $ppcm(2^{M(b)}-1, n)$ est un facteur non trivial de $n$.\n",
        "\n",
        "Ceci implique que, sous l'hypothèse que $n$ est $b$-superfriable, on trouve un facteur non-trivial de $n$. Par contre, il est possible que le résultat du calcul précédent soit $n$ tout entier : par exemple, si $n$ est sans carrés et si tout nombre premier $p$ divisant $n$ est $b$-superfriable.\n",
        "\n",
        "a) Donner des exemples de $n$ et $b$ tels que $ppcm(2^{M(b)}-1, n) = n$.\n",
        "\n",
        "b) Implementer l'algorithme $p-1$ de Pollard."
      ]
    },
    {
      "cell_type": "code",
      "execution_count": 3,
      "metadata": {
        "id": "m7gXCkuTMiEa"
      },
      "outputs": [
        {
          "name": "stdout",
          "output_type": "stream",
          "text": [
            "echec\n"
          ]
        }
      ],
      "source": [
        "# la fonction pollard prend comme argument un enter n et un entier b et détérmine\n",
        "# si il est possible de calculer un facteur de n avec l'aogirithme de Pollard.\n",
        "\n",
        "import numpy as np\n",
        "def pollard(n, b):\n",
        "    x=np.random.randint(1,n-1)\n",
        "    if np.gcd(x,n)==1:\n",
        "        y=x**(b-1)\n",
        "        d=np.gcd(y,n)\n",
        "        if (d==1 or d==n):\n",
        "             print(\"echec\")\n",
        "        else:\n",
        "            return d\n",
        "pollard(9,3)    "
      ]
    },
    {
      "cell_type": "markdown",
      "metadata": {
        "id": "VW1BcPtMDInz"
      },
      "source": [
        "## 2.4) L'algorithme $\\rho$ de Pollard\n",
        "\n",
        "\n",
        "L'idée principale derrière l'algorithme est que si $p$ est le plus petit nombre premier divisant $n$, et si l'on prend $k$ nombres au hasard entre $0$ et $p-1$, alors deux d'entre eux seront égaux avec probabilité $\\geq 1/2$ dès que $k \\geq \\sqrt{p}$. Comme $p$ n'est pas connu, on considère une suite $a_1, a_2, \\ldots$ d'entiers mod $n$ que l'on produit par la formule de récurrence\n",
        "\n",
        "$\\begin{equation} a_1 = \\sqrt{n}, \\;\\;\\; a_{i+1} = a_i^2 + c \\end{equation}$\n",
        "\n",
        "pour un certain entier $c$. On considère la suite $(a_i \\text{ mod } p)$ (qui n'est pas à priori connue). Cette suite est considérée comme une suite aléatoire et forcement périodique. \n",
        "\n",
        "a) Montrer qu'il existe des nombres $\\mu$ et $\\lambda$ tels que, pour tout $i \\geq \\mu$, $a_{i} \\equiv a_{i + \\lambda} \\text{ (mod p)}$.\n",
        "\n",
        "b) Montrer que $i = k \\lambda \\geq \\mu$ si et seulement si $a_i \\equiv a_{2i} \\text{ (mod p)}$.\n",
        "\n",
        "c) Implementer l'algorithme $\\rho$ de Pollard."
      ]
    },
    {
      "cell_type": "code",
      "execution_count": null,
      "metadata": {
        "id": "uk2ifUaTGMWn"
      },
      "outputs": [],
      "source": [
        "# La foncction pollard prend comme argument un entier n et retourne un facteur non-trivial de n ou bien\n",
        "# \"pas de facteur trouvé\".\n",
        "\n",
        "def pollard(n, c) :"
      ]
    }
  ],
  "metadata": {
    "colab": {
      "collapsed_sections": [],
      "provenance": []
    },
    "kernelspec": {
      "display_name": "Python 3.10.0 64-bit",
      "language": "python",
      "name": "python3"
    },
    "language_info": {
      "codemirror_mode": {
        "name": "ipython",
        "version": 3
      },
      "file_extension": ".py",
      "mimetype": "text/x-python",
      "name": "python",
      "nbconvert_exporter": "python",
      "pygments_lexer": "ipython3",
      "version": "3.10.0"
    },
    "vscode": {
      "interpreter": {
        "hash": "14a0893dc4be1c38251f549279cc62e485fa0756b068f9361c37235351fbade2"
      }
    }
  },
  "nbformat": 4,
  "nbformat_minor": 0
}
