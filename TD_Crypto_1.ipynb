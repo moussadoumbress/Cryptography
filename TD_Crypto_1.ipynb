{
  "cells": [
    {
      "cell_type": "markdown",
      "metadata": {
        "id": "JqqonoT2qFPE"
      },
      "source": [
        "# TD 1 : Cryptographie \n",
        "\n",
        "L'idée du premier TD est d'implementer les algorithmes vus au premier cours ainsi que de les cryptoanaliser."
      ]
    },
    {
      "cell_type": "markdown",
      "metadata": {
        "id": "1YeUbg9SqzD8"
      },
      "source": [
        "# 1. Algorithme de César\n",
        "\n",
        "a) Écrire une fonction prennant comme entrée les variables (texte, clef, dec), où la texte est un texte (claire ou codé), clef est la clé sécrète et tel que cesar(texte, clef, dec) donne comme réponse le texte codé si dec = 1 ou le texte décodé si dec = 0.\n",
        "\n",
        "\n",
        "\n",
        "\n"
      ]
    },
    {
      "cell_type": "code",
      "execution_count": 1,
      "metadata": {
        "id": "sIJq1keHsxPT"
      },
      "outputs": [
        {
          "name": "stdout",
          "output_type": "stream",
          "text": [
            "dddddddd\n",
            "aaaaaaaa\n"
          ]
        }
      ],
      "source": [
        "def cesar(texte, clef, dec) :\n",
        "\n",
        "    if dec==1:\n",
        "        texte_code = ''\n",
        "        for i in range(len(texte)):\n",
        "            ascii=ord(texte[i])+clef%26\n",
        "            texte_code +=chr(ascii)\n",
        "        return texte_code\n",
        "    if dec==0:\n",
        "        texte_decode = ''\n",
        "        for i in range(len(texte)):\n",
        "            ascii=ord(texte[i])-clef%26\n",
        "            texte_decode +=chr(ascii)\n",
        "        return texte_decode\n",
        "\n",
        "print(cesar('aaaaaaaa', 3, 1))\n",
        "print(cesar('dddddddd',3,0))        "
      ]
    },
    {
      "cell_type": "markdown",
      "metadata": {
        "id": "x81cLwLds7Nw"
      },
      "source": [
        "L'algorithme de César (ainsi que tout autre algorithme de substitution monoalphabétique) ne résiste pas à un attaque de texte chiffré connu via une analyse de fréquences.\n",
        "\n",
        "b) Télécharger un texte long et en déduire une approximation de la fréquence de chaque lettre de l'alphabet dans la langue française.\n",
        " "
      ]
    },
    {
      "cell_type": "code",
      "execution_count": null,
      "metadata": {
        "id": "uIvtYTLt11sp"
      },
      "outputs": [],
      "source": [
        "# Commande pour télécharger un document\n",
        "!wget https://www.gutenberg.org/cache/epub/6838/pg6838.txt"
      ]
    },
    {
      "cell_type": "code",
      "execution_count": 1,
      "metadata": {
        "id": "TaxTgV0cuNUN"
      },
      "outputs": [],
      "source": [
        "# Ouvrir le document\n",
        "with open(\"C:\\\\Users\\\\mouss\\\\OneDrive\\\\Bureau\\\\Tp crypto\\\\pg6838.txt\") as file :\n",
        "  texte_exemple = file.read()\n",
        "\n",
        "# Enlever le texte en anglais\n",
        "texte_exemple = texte_exemple[1150:-19020]\n",
        "\n",
        "texte_propre = ''.join([i for i in texte_exemple if i.isalpha()])\n",
        "texte_propre = texte_propre.lower()\n",
        "\n",
        "# Enlever les accents\n",
        "import unicodedata\n",
        "texte_propre = ''.join((c for c in unicodedata.normalize('NFD', texte_propre) if unicodedata.category(c) != 'Mn'))\n",
        "\n",
        "#print(texte_propre)\n"
      ]
    },
    {
      "cell_type": "code",
      "execution_count": 8,
      "metadata": {
        "id": "hkOWUjoLvs5F"
      },
      "outputs": [
        {
          "data": {
            "text/plain": [
              "array([1.15923177e+01, 9.68411194e-01, 3.10554967e+00, 3.51073447e+00,\n",
              "       1.48669654e+01, 1.05426094e+00, 8.91016344e-01, 9.95076647e-01,\n",
              "       7.03902912e+00, 7.99963579e-01, 6.50376893e-04, 5.57372998e+00,\n",
              "       3.13741813e+00, 6.46409594e+00, 5.51064342e+00, 2.65223697e+00,\n",
              "       1.27473871e+00, 6.43027635e+00, 7.92679358e+00, 6.64229921e+00,\n",
              "       6.72814896e+00, 1.60382942e+00, 6.50376893e-04, 5.13797746e-01,\n",
              "       2.54947742e-01, 1.60643093e-01])"
            ]
          },
          "execution_count": 8,
          "metadata": {},
          "output_type": "execute_result"
        }
      ],
      "source": [
        "# Analyse_Frequence(texte) écrit la liste des lettres avec\n",
        "# leur fréquence correspondante dans texte\n",
        "import numpy as np\n",
        "def Analyse_Frequence(texte) :\n",
        "    freq=np.zeros((26,))\n",
        "    alphabet=('a','b','c','d','e','f','g','h','i','j','k','l','m','n','o','p','q','r','s','t','u','v','w','x','y','z')\n",
        "    for j,lettre in enumerate(alphabet):\n",
        "        count=0\n",
        "        for i in range(len(texte)):\n",
        "            if lettre==texte[i]:\n",
        "                count += 1\n",
        "        #print(lettre,count/len(texte)*100)\n",
        "        freq[j]=count/len(texte)*100\n",
        "    #print(freq)\n",
        "    return freq\n",
        "Analyse_Frequence(texte_propre)"
      ]
    },
    {
      "cell_type": "markdown",
      "metadata": {
        "id": "_uB6aGN5ukhh"
      },
      "source": [
        "\n",
        "c) Utiliser l'algorithme de César pour chiffrer un autre texte et ensuite le décodifier par une analyse de fréquences."
      ]
    },
    {
      "cell_type": "code",
      "execution_count": 66,
      "metadata": {
        "id": "XFD3fz5Wup2v"
      },
      "outputs": [
        {
          "name": "stdout",
          "output_type": "stream",
          "text": [
            "(14.866965406453039, 4)\n"
          ]
        }
      ],
      "source": [
        "# find_key prend comme entrée un texte chiffré\n",
        "# et retourne la valeure de la clé avec laquelle le texte a été chiffré\n",
        "def find_key(texte) :\n",
        "    freq=Analyse_Frequence(texte)\n",
        "    freq_max=freq[0]\n",
        "    for i in range(len(freq)):\n",
        "        if freq[i]>freq_max:\n",
        "            freq_max=freq[i]\n",
        "            indice=i\n",
        "    l_freq=(freq_max,indice)\n",
        "    key=abs(l_freq[1]-5+1)\n",
        "    return key\n",
        "#print(find_key(texte_propre))\n",
        "\n",
        "    \n",
        "\n",
        "\n",
        "#break_Cesar(texte_chiffre) prend comme entrée un texte codé et\n",
        " #retourne le texte claire\n",
        "def break_Cesar(texte_chiffre) :\n",
        "    texte_decode = ''\n",
        "    for i in range(len(texte)):\n",
        "            ascii=ord(texte_chiffre[i])-find_key(texte_chiffre)%26\n",
        "            texte_decode +=chr(ascii)\n",
        "    return texte_decode"
      ]
    },
    {
      "cell_type": "markdown",
      "metadata": {
        "id": "KtYIcSOrwOFQ"
      },
      "source": [
        "# 2. Vigénère"
      ]
    },
    {
      "cell_type": "markdown",
      "metadata": {
        "id": "teKF5k-dAxTc"
      },
      "source": [
        "## 2.1 Implementation de l'algorithme\n",
        "\n",
        "a) Écrire une fonction pour coder un texte en utilisant l'algorithme de Vigénère."
      ]
    },
    {
      "cell_type": "code",
      "execution_count": 100,
      "metadata": {
        "id": "1Z9slfCwwa7F"
      },
      "outputs": [
        {
          "name": "stdout",
          "output_type": "stream",
          "text": [
            "msptwc\n"
          ]
        }
      ],
      "source": [
        "# Vigenere(texte, clef) chiffre texte avec clef comme clé de chiffrage\n",
        "import random\n",
        "def Vigenere(texte, clef) :\n",
        "    code=''\n",
        "    for i in range(len(clef)):\n",
        "        for j in range(len(texte)):\n",
        "            r=j%len(clef)\n",
        "            if r==i:\n",
        "                asci=(ord(texte[j])-97+ord(clef[i])-97)%26+97\n",
        "                code+=chr(asci)\n",
        "    return code\n",
        "print(Vigenere('moussa','abc'))    \n",
        "\n",
        "        \n"
      ]
    },
    {
      "cell_type": "markdown",
      "metadata": {
        "id": "ZHbhQEJwxC6g"
      },
      "source": [
        "## 2.2 Cryptoanalyse 1\n",
        "\n",
        "L'objectif maintenant est de cryptoanalyser le code de Vigérène en regardant les trigrammes qui apparaissent dans le texte chiffré.\n"
      ]
    },
    {
      "cell_type": "markdown",
      "metadata": {
        "id": "R_B6j74_xv5F"
      },
      "source": [
        "a) Écrire une fonction qui trouve la longueur de la clé utilisée pour coder le texte en analysant les trigrammes qui y apparaissent."
      ]
    },
    {
      "cell_type": "code",
      "execution_count": 114,
      "metadata": {
        "id": "wJZPB5-cyBAa"
      },
      "outputs": [
        {
          "name": "stdout",
          "output_type": "stream",
          "text": [
            "1\n"
          ]
        }
      ],
      "source": [
        "import math\n",
        "def Find_Length1(texte) :\n",
        "    \n",
        "    tgm=[]\n",
        "    for i in range(len(texte)-2):\n",
        "        m=texte[i]+texte[i+1]+texte[i+2]\n",
        "        for j in range(i+3,len(texte)-2):\n",
        "            t=texte[j]+texte[j+1]+texte[j+2]\n",
        "            if m==t:\n",
        "                tgm.append(j-i-2)\n",
        "    if len(tgm)!=0:\n",
        "        Length1=math.gcd(tgm[0],tgm[1])            \n",
        "        for k in range(2,len(tgm)):\n",
        "        \n",
        "            Length1=math.gcd(Length1,tgm[k]) if (len(tgm)>=2) else print(\"il n'y a qu'un seul trigramme\") \n",
        "    return Length1\n",
        "    \n",
        "print(Find_Length1('abcolmnabcpabc'))"
      ]
    },
    {
      "cell_type": "markdown",
      "metadata": {
        "id": "5Xr97uMk-Tp3"
      },
      "source": [
        "## 2.3 Crytoanalyse 2\n",
        "\n",
        "On se propose maintenan de cryptoanalyser l'algorithme de Vigénères en utilisant l'indice de coïncidence.\n",
        "\n",
        "a) Écrire un programme pour calculer l'indice de coïncidence dans la langue française ainsi que dans un texte aléatoire (avec une distribution uniforme)."
      ]
    },
    {
      "cell_type": "code",
      "execution_count": 33,
      "metadata": {
        "id": "x1rOqaDT-vUs"
      },
      "outputs": [
        {
          "name": "stdout",
          "output_type": "stream",
          "text": [
            "0.038080985943151895\n",
            "0.038166166166166166\n"
          ]
        }
      ],
      "source": [
        "# Fonction pour calculer l'indice de coïncidance pour le français\n",
        "import numpy as np\n",
        "def ic_francais():\n",
        "    ic=0\n",
        "    n=len(Analyse_Frequence(texte_propre))\n",
        "    freq= Analyse_Frequence(texte_propre)*(n/100)\n",
        "    n=len(freq)\n",
        "    for i in range(26):\n",
        "        num=freq[i]*(freq[i]-1)\n",
        "        denom=n*(n-1)\n",
        "        ic +=num/denom\n",
        "    return ic\n",
        "print(ic_francais())\n",
        "    \n",
        "    \n",
        "# Fonction pour calculer l'indice de coïncidence dans un texte arbitraire\n",
        "def ic_uniform():\n",
        "    txt_random=np.random.randint(1,27,size=1000)\n",
        "    ic_u=0\n",
        "    for i in range(1,27):\n",
        "       f= list(txt_random).count(i)\n",
        "       f=f*(f-1)\n",
        "       ic_u +=f/999000\n",
        "    return ic_u\n",
        "\n",
        "   \n",
        "print(ic_uniform())"
      ]
    },
    {
      "cell_type": "markdown",
      "metadata": {
        "id": "u9Nl-oPW-yI-"
      },
      "source": [
        "b) En supposant que la longueur de la clé n'est pas trop grande, écrire un programme pour la détérminer en utilisant l'indice de coïncidence. "
      ]
    },
    {
      "cell_type": "code",
      "execution_count": null,
      "metadata": {
        "id": "S8Ec0bPo-7_s"
      },
      "outputs": [],
      "source": [
        "# Première fonction pour trouver la possible clé de codage\n",
        "def Find_Length1(texte):\n",
        "    "
      ]
    },
    {
      "cell_type": "markdown",
      "metadata": {
        "id": "Atn6PQFabQSu"
      },
      "source": [
        "## 2.4 Cryptoanalyse 3\n",
        "\n",
        "a) Démontrer qu'on peut utiliser une l'indice des coïncidences pour estimer la longeur de la clé de codage en calculant l'indice de coïncidence d'un texte en fonction de la longeur, la taille de la clé, et les indices de coïncidance $c_0$ et $c_1$ d'un tete aléatoire et du français."
      ]
    },
    {
      "cell_type": "markdown",
      "metadata": {
        "id": "Wzz_hKr7_S5C"
      },
      "source": [
        "b) Implementer un programme pour trouver cette estimation avec la formule obtenue dans le point précédent."
      ]
    },
    {
      "cell_type": "code",
      "execution_count": null,
      "metadata": {
        "id": "ukgQhQ6qbtE3"
      },
      "outputs": [],
      "source": [
        "# Deuxième fonction pour trouver la possible clé de codage\n",
        "def Find_Length2(texte):\n",
        "    "
      ]
    },
    {
      "cell_type": "markdown",
      "metadata": {
        "id": "g48w2XI7b8G3"
      },
      "source": [
        "c) Donner une démonstration de la formule de l'indice de coïncidence vue en cours."
      ]
    },
    {
      "cell_type": "markdown",
      "metadata": {
        "id": "5UaHXii7yJX9"
      },
      "source": [
        "d) Écrire un programme pour décodifier un texte donné qui a été codé avec l'algorithme de Vigénères. Comparer les trois méthodes étudiés pour trouver la possible clé de chiffrage."
      ]
    },
    {
      "cell_type": "code",
      "execution_count": null,
      "metadata": {
        "id": "ROeSbfpryQXu"
      },
      "outputs": [],
      "source": [
        "def break_Vigenere(texte) :"
      ]
    },
    {
      "cell_type": "markdown",
      "metadata": {
        "id": "vjixVLtiy5hW"
      },
      "source": [
        "e) Essayer la fonction break_Vigenere avec quelques textes codés"
      ]
    },
    {
      "cell_type": "markdown",
      "metadata": {
        "id": "FCU6HlcU4g8a"
      },
      "source": [
        "# 3. LFSR\n",
        "\n",
        "Le but de cet exercise est d'implementer un programme pour pouvoir crypter un texte avec LFSR et de cryptoanalyser l'algorithme. Rappelons que l'on se donne un entier $m$, des conditions initiales $k_1,..., k_m$ et des coéfficients de la récurrence $c_1, ..., c_m$ pour construire, via un récurrence linéaire, une suite $z_1, z_2, \\ldots$.\n",
        "\n",
        "a) Implémenter un programme pour crypter un texte en utilisant LFSR."
      ]
    },
    {
      "cell_type": "code",
      "execution_count": 9,
      "metadata": {
        "id": "Ca1iDe2qWPJ9"
      },
      "outputs": [
        {
          "ename": "ValueError",
          "evalue": "shapes (3,) and (1,) not aligned: 3 (dim 0) != 1 (dim 0)",
          "output_type": "error",
          "traceback": [
            "\u001b[1;31m---------------------------------------------------------------------------\u001b[0m",
            "\u001b[1;31mValueError\u001b[0m                                Traceback (most recent call last)",
            "\u001b[1;32mc:\\Users\\mouss\\OneDrive\\Bureau\\Tp crypto\\TD_Crypto_1.ipynb Cellule 28\u001b[0m in \u001b[0;36m<cell line: 22>\u001b[1;34m()\u001b[0m\n\u001b[0;32m     <a href='vscode-notebook-cell:/c%3A/Users/mouss/OneDrive/Bureau/Tp%20crypto/TD_Crypto_1.ipynb#X36sZmlsZQ%3D%3D?line=19'>20</a>\u001b[0m k\u001b[39m=\u001b[39m[\u001b[39m1\u001b[39m,\u001b[39m0\u001b[39m,\u001b[39m0\u001b[39m]\n\u001b[0;32m     <a href='vscode-notebook-cell:/c%3A/Users/mouss/OneDrive/Bureau/Tp%20crypto/TD_Crypto_1.ipynb#X36sZmlsZQ%3D%3D?line=20'>21</a>\u001b[0m c\u001b[39m=\u001b[39m[\u001b[39m1\u001b[39m,\u001b[39m0\u001b[39m,\u001b[39m0\u001b[39m]\n\u001b[1;32m---> <a href='vscode-notebook-cell:/c%3A/Users/mouss/OneDrive/Bureau/Tp%20crypto/TD_Crypto_1.ipynb#X36sZmlsZQ%3D%3D?line=21'>22</a>\u001b[0m \u001b[39mprint\u001b[39m(lfsr_crypt(texte,k,c))\n",
            "\u001b[1;32mc:\\Users\\mouss\\OneDrive\\Bureau\\Tp crypto\\TD_Crypto_1.ipynb Cellule 28\u001b[0m in \u001b[0;36mlfsr_crypt\u001b[1;34m(texte, k, c)\u001b[0m\n\u001b[0;32m     <a href='vscode-notebook-cell:/c%3A/Users/mouss/OneDrive/Bureau/Tp%20crypto/TD_Crypto_1.ipynb#X36sZmlsZQ%3D%3D?line=11'>12</a>\u001b[0m \u001b[39mfor\u001b[39;00m i \u001b[39min\u001b[39;00m \u001b[39mrange\u001b[39m(\u001b[39mlen\u001b[39m(texte)):\n\u001b[0;32m     <a href='vscode-notebook-cell:/c%3A/Users/mouss/OneDrive/Bureau/Tp%20crypto/TD_Crypto_1.ipynb#X36sZmlsZQ%3D%3D?line=12'>13</a>\u001b[0m     c_i\u001b[39m.\u001b[39mappend(z[m\u001b[39m+\u001b[39mi\u001b[39m-\u001b[39mj] \u001b[39mfor\u001b[39;00m j \u001b[39min\u001b[39;00m \u001b[39mrange\u001b[39m(m,\u001b[39m0\u001b[39m))\n\u001b[1;32m---> <a href='vscode-notebook-cell:/c%3A/Users/mouss/OneDrive/Bureau/Tp%20crypto/TD_Crypto_1.ipynb#X36sZmlsZQ%3D%3D?line=14'>15</a>\u001b[0m     e\u001b[39m=\u001b[39mnp\u001b[39m.\u001b[39;49mdot(c,c_i)\n\u001b[0;32m     <a href='vscode-notebook-cell:/c%3A/Users/mouss/OneDrive/Bureau/Tp%20crypto/TD_Crypto_1.ipynb#X36sZmlsZQ%3D%3D?line=15'>16</a>\u001b[0m     z\u001b[39m.\u001b[39mappend(e)\n\u001b[0;32m     <a href='vscode-notebook-cell:/c%3A/Users/mouss/OneDrive/Bureau/Tp%20crypto/TD_Crypto_1.ipynb#X36sZmlsZQ%3D%3D?line=16'>17</a>\u001b[0m \u001b[39mreturn\u001b[39;00m z\n",
            "File \u001b[1;32m<__array_function__ internals>:5\u001b[0m, in \u001b[0;36mdot\u001b[1;34m(*args, **kwargs)\u001b[0m\n",
            "\u001b[1;31mValueError\u001b[0m: shapes (3,) and (1,) not aligned: 3 (dim 0) != 1 (dim 0)"
          ]
        }
      ],
      "source": [
        "# La fonction lfsr_crypt prend comme entrée un texte à coder, ainsi que les conditions\n",
        "# initiales k = [k_1, ..., k_m] et les coefficients de la récurrence c = [c_1, ..., c_m]\n",
        "# où k_i, c_i sont dans (Z / 2Z)\n",
        "\n",
        "import numpy as np\n",
        "def lfsr_crypt(texte, k, c) :\n",
        "    m=len(k)\n",
        "    z=[]\n",
        "    z.append(k[i] for i in range(m))\n",
        "    c_i=[]\n",
        "    \n",
        "    for i in range(len(texte)):\n",
        "        c_i.append(z[m+i-j] for j in range(m,0))\n",
        "        \n",
        "        e=np.dot(c,c_i)\n",
        "        z.append(e)\n",
        "    return z\n",
        "\n",
        "texte ='moussa'\n",
        "k=[1,0,0]\n",
        "c=[1,0,0]\n",
        "print(lfsr_crypt(texte,k,c))\n",
        "    \n",
        "\n",
        "\n",
        "\n"
      ]
    },
    {
      "cell_type": "markdown",
      "metadata": {
        "id": "bQxzwKVVW4UT"
      },
      "source": [
        "b) Démontrer que la période de la suite $z_i$ est toujours bornée supérieurement par $2^{m-1}$."
      ]
    },
    {
      "cell_type": "markdown",
      "metadata": {
        "id": "gKELW9qYdAN9"
      },
      "source": [
        "c) Chercher, comprendre et implementer l'algorithme de Berlekamp-Massey pour casser le LFSR"
      ]
    },
    {
      "cell_type": "code",
      "execution_count": null,
      "metadata": {
        "id": "krXHTh_FdQXW"
      },
      "outputs": [],
      "source": [
        "def break_lfsr(texte) :"
      ]
    }
  ],
  "metadata": {
    "colab": {
      "provenance": [],
      "toc_visible": true
    },
    "kernelspec": {
      "display_name": "Python 3.10.0 64-bit",
      "language": "python",
      "name": "python3"
    },
    "language_info": {
      "codemirror_mode": {
        "name": "ipython",
        "version": 3
      },
      "file_extension": ".py",
      "mimetype": "text/x-python",
      "name": "python",
      "nbconvert_exporter": "python",
      "pygments_lexer": "ipython3",
      "version": "3.10.0"
    },
    "vscode": {
      "interpreter": {
        "hash": "14a0893dc4be1c38251f549279cc62e485fa0756b068f9361c37235351fbade2"
      }
    }
  },
  "nbformat": 4,
  "nbformat_minor": 0
}
