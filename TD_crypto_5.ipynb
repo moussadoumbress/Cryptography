{
  "cells": [
    {
      "cell_type": "markdown",
      "metadata": {
        "id": "E4M9Q9heqxoS"
      },
      "source": [
        "# Cryptographie TD 5 : Codes correcteurs\n",
        "\n",
        "\n",
        "## 1) Codes linéaires, exercices préliminaires\n",
        "\n",
        "On commence par quelques exercices basiques sur les codes linéaires.\n",
        "\n",
        "a) Considérer le code linéaire $\\mathcal{C} \\subseteq \\mathbb{F}_7$ engendré par la matrice \n",
        "\n",
        "\\begin{equation}\n",
        "G = \\left(\n",
        "  \\begin{matrix}\n",
        "  1 & 0 & 0 & 1 & 2 & 3 & 4 \\\\\n",
        "  0 & 1 & 0 & 2 & 4 & 6 & 1 \\\\\n",
        "  0 & 0 & 1 & 0 & 1 & 1 & 1 \\\\\n",
        "  \\end{matrix}\n",
        "  \\right)\n",
        "\\end{equation}\n",
        "\n",
        "Calculer la distance minimale $d(\\mathcal{C})$. Calculer la matrice de contrôle $H$ de $\\mathcal{C}$ dans sa forme systématique. Vérifier que $d(\\mathcal{C})$ coïncide avec le nombre minimum de colonnes linéairement dépendantes de $H$.\n",
        "\n",
        "b) Idem pour $\\mathcal{C}$ engendré par la matrice $G$\n",
        "\n",
        "\\begin{equation}\n",
        "G = \\left(\n",
        "  \\begin{matrix}\n",
        "  2 & 0 & 1 & 2 & 0 \\\\\n",
        "  1 & 1 & 2 & 0 & 2 \\\\\n",
        "  \\end{matrix}\n",
        "  \\right)\n",
        "\\end{equation}\n",
        "\n",
        "c1) Soit $\\mathcal{C} \\subseteq \\mathbb{F}_q^n$ un code linéaire. Rappelons que le code dual $\\mathcal{C}^\\perp$ de $\\mathcal{C}$ est défini comme l'orthogonal à $\\mathcal{C}$, i.e.\n",
        "\\begin{equation} \\mathcal{C}^\\perp := \\{ y \\in \\mathbb{F}_q^n : \\langle y, x \\rangle = 0 \\; \\forall x \\in \\mathcal{C} \\}, \\end{equation}\n",
        "Calculer les paramètres de $\\mathcal{C}^\\perp$.\n",
        "\n",
        "\n",
        "c2) Le groupe $\\mathrm{Aut}(\\mathcal{C})$ d'automorphismes de $\\mathcal{C}$ est le sous groupe du groupe symmétrique $\\mathcal{S}_n$ d'éléments $\\sigma$ qui stabilisent $\\mathcal{C}$, i.e. $\\sigma(\\mathcal{C}) = \\mathcal{C}$.\n",
        "Montrer que $\\mathrm{Aut}(\\mathcal{C}) = \\mathrm{Aut}(\\mathcal{C}^\\perp)$. En déduire que le dual d'un code cyclique est cyclique.\n",
        "\n",
        "d) Soit $\\mathcal{C} \\subseteq \\mathbb{F}_q^n$ un code linéaire de paramètres $[n, k, d]$. Si $x \\in \\mathbb{F}_q^n$ et $I \\subseteq \\{ 0, 1, \\ldots, q-1 \\}$, on note $x_I \\in \\mathbb{F}_q^{|I|}$ le mot obtenu en ne regardant que les coordonnés indexées par $j \\in J$. On définit le code $\\mathcal{C}$ poinçonné en $I$ comme\n",
        "\n",
        "\\begin{equation} \\mathrm{Punct}_I(\\mathcal{C}) := \\{ x_{[1,n] \\backslash I} : x \\in \\mathcal{C} \\}, \\end{equation}\n",
        "\n",
        "et le code raccourci sur $I$ comme\n",
        "\n",
        "\\begin{equation} \\mathrm{Short}_I(\\mathcal{C}) := \\{ x_{[1,n] \\backslash I} : x \\in \\mathcal{C} \\text{ et } x_I = 0 \\} \\end{equation}\n",
        "\n",
        "* Détérminer les paramètres (longeur, borne sur la dimension et borne sur la distance minimale) de $\\mathrm{Punct}_I(\\mathcal{C})$ et $\\mathrm{Short}_I(\\mathcal{C})$ en fonction de $n, k, d$ et $|I|$.\n",
        "\n",
        "* Démontrer que $\\mathrm{Punct}_I(\\mathcal{C}^\\perp) = \\mathrm{Short}_I(\\mathcal{C})^\\perp$.\n",
        "\n",
        "e) Montrer que le code linéaire de matrice génératrice\n",
        "\n",
        "\\begin{equation}\n",
        "G = \\left( \\begin{matrix}\n",
        "1 & 0 & 0 & 0 & 0 & 0 & 1 & 0 \\\\\n",
        "0 & 1 & 0 & 0 & 0 & 0 & 0 & 1 \\\\\n",
        "0 & 0 & 1 & 0 & 0 & 0 & 1 & 0 \\\\\n",
        "0 & 0 & 0 & 1 & 0 & 0 & 0 & 1 \\\\\n",
        "0 & 0 & 0 & 0 & 1 & 0 & 1 & 0 \\\\\n",
        "0 & 0 & 0 & 0 & 0 & 1 & 0 & 1 \\\\\n",
        "\\end{matrix} \\right)\n",
        "\\end{equation}\n",
        "\n",
        "est cyclique et calculer son polynôme générateur.\n",
        "\n",
        "f) Montrer que si $g(x) = a_0 + a_1 x + \\ldots + a_{r - 1} x^{r-1} + x^r$ est le polynôme minimal d'un code cyclique $\\mathcal{C}$, alors $a_0 \\neq 0$.\n",
        "\n",
        "g) Calculer la matrice génératrice, les paramêtres $[n, k, d]$ et la matrice de crontôle du code $\\mathcal{C}$ défini par l'idéal $\\langle x^3 + x^2 + 2x + 2 \\rangle$ dans $\\mathbb{F}_4[x] / \\langle x^6 - 1 \\rangle$.\n",
        "\n",
        "h) Soit $\\mathcal{C}$ un code cyclique de polynôme minimal $g(x)$ de degré $r$. Rappelons que le polynôme de controle $h(x) \\in \\mathbb{F}_q[x]$ est le polynôme de degré $n - r$ tel que $x^n - 1 = g(x) h(x)$. Calculer la matrice de contrôle de $\\mathcal{C}$ en termes de $h(x)$. En déduire que le polynôme générateur de $\\mathcal{C}^\\perp$ est $g^\\perp(x) := x^{n - r} h(x^{-1})$. Calculer les polynômes et la matrice de controle des exercices e) et f). \n",
        "\n",
        "# 2) Code de Hamming\n",
        "\n",
        "Le premier code correcteur est celui de Hamming. Rappelons qu'un code $C \\subseteq \\mathbb{F}_2$ de paramètres $(n, k, d)$ est dit de Hamming si il satisfait l'égalité dans l'inégalité de Hamming\n",
        "\n",
        "\\begin{equation} \\sum_{i = 0}^e {n \\choose i} \\leq 2^{n - k}, \\end{equation}\n",
        "\n",
        "où $e = \\lfloor \\frac{d - 1}{2} \\rfloor$. L'exemple classique est le code de Hamming $(7,4, 3)$ défini par la matrice\n",
        "\n",
        "\n",
        "\\begin{equation}\n",
        "G = \\left( \\begin{matrix}\n",
        "1 & 0 & 0 & 0 & 1 & 1 & 0 \\\\\n",
        "0 & 1 & 0 & 0 & 1 & 0 & 1 \\\\\n",
        "0 & 0 & 1 & 0 & 0 & 1 & 1 \\\\\n",
        "0 & 0 & 0 & 1 & 1 & 1 & 1 \\\\\n",
        "\\end{matrix}\n",
        "\\right).\n",
        "\\end{equation}\n",
        "\n",
        "a) Montrer que ce code permet de corriger les erreur de $1$ bit.\n",
        "\n",
        "b) Implémenter un code qui code un message et qui corrige le message reçu."
      ]
    },
    {
      "cell_type": "code",
      "execution_count": null,
      "metadata": {
        "id": "YTwLOI-qdify"
      },
      "outputs": [],
      "source": [
        "def Hamming_code(message) :\n",
        "  return\n",
        "\n",
        "def Hamming_detect(message) :\n",
        "  return\n",
        "\n",
        "def Hamming_correct(message) : \n",
        "  return"
      ]
    },
    {
      "cell_type": "markdown",
      "metadata": {
        "id": "vMZ-sAE4eUBu"
      },
      "source": [
        "c) Vérifier l'implémentation en codant le messages\n",
        "\n",
        "$x_1 = (1 0 1 0),$\n",
        "\n",
        "$x_2 = (1 0 0 1),$\n",
        "\n",
        "et en décodant les messages\n",
        "\n",
        "$y_1 = (1 0 1 0 1 0 1),$\n",
        "\n",
        "$y_2 = (1 1 1 0 1 0 1)$.\n",
        "\n",
        "Donner d'autres exemples.\n",
        "\n",
        "d) Construire un code de Hamming $[15, 11]$\n"
      ]
    },
    {
      "cell_type": "code",
      "execution_count": null,
      "metadata": {},
      "outputs": [],
      "source": [
        "a=\"moussa;d\"\n",
        "a.split()\n",
        "#len(a)"
      ]
    }
  ],
  "metadata": {
    "colab": {
      "provenance": []
    },
    "kernelspec": {
      "display_name": "Python 3.10.0 64-bit",
      "language": "python",
      "name": "python3"
    },
    "language_info": {
      "codemirror_mode": {
        "name": "ipython",
        "version": 3
      },
      "file_extension": ".py",
      "mimetype": "text/x-python",
      "name": "python",
      "nbconvert_exporter": "python",
      "pygments_lexer": "ipython3",
      "version": "3.10.0"
    },
    "vscode": {
      "interpreter": {
        "hash": "14a0893dc4be1c38251f549279cc62e485fa0756b068f9361c37235351fbade2"
      }
    }
  },
  "nbformat": 4,
  "nbformat_minor": 0
}
